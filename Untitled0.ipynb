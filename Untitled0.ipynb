{
  "nbformat": 4,
  "nbformat_minor": 0,
  "metadata": {
    "colab": {
      "provenance": [],
      "authorship_tag": "ABX9TyPA3Z05VKrwdFI52bK4smba",
      "include_colab_link": true
    },
    "kernelspec": {
      "name": "python3",
      "display_name": "Python 3"
    },
    "language_info": {
      "name": "python"
    }
  },
  "cells": [
    {
      "cell_type": "markdown",
      "metadata": {
        "id": "view-in-github",
        "colab_type": "text"
      },
      "source": [
        "<a href=\"https://colab.research.google.com/github/nitek1/Atendimento/blob/main/Untitled0.ipynb\" target=\"_parent\"><img src=\"https://colab.research.google.com/assets/colab-badge.svg\" alt=\"Open In Colab\"/></a>"
      ]
    },
    {
      "cell_type": "code",
      "execution_count": null,
      "metadata": {
        "colab": {
          "base_uri": "https://localhost:8080/"
        },
        "id": "2o8fk9S-Sbpy",
        "outputId": "f38c07bf-6898-499a-81df-43e50f1a2cea"
      },
      "outputs": [
        {
          "metadata": {
            "tags": null
          },
          "name": "stdout",
          "output_type": "stream",
          "text": [
            "Olá  Maria, o resultado é: 15.3\n",
            "Olá Mariao resultado é: 15.3\n"
          ]
        }
      ],
      "source": [
        "\n",
        "# prompt: python\n",
        "\n",
        "nome = \"Maria\"\n",
        "a = 10\n",
        "b = 5.3\n",
        "c = a + b\n",
        "\n",
        "\n",
        "print(f\"Olá  {nome}, o resultado é: {c}\")\n",
        "\n",
        "print(\"Olá \" + nome + \"o resultado é: \"+ str(c))\n",
        "\n",
        "nome2 = input(\"Digite seu nome:\")\n",
        "print(f\"Olá, {nome2}!\")\n",
        "id = int(input(\"Digite sua idade: \"))\n",
        "valor = input(\"Digite um valor: \")\n",
        "print(\"Olá \" + nome2 + \" sua idade é: \"+ str(id))\n",
        "print(f\" O valor é :   {valor}\")\n",
        "\n",
        "if c > 5:\n",
        "  print(\"x é maior que 5\")\n",
        "\n",
        "  if c >= 500:\n",
        "    print(\"c é maior que 5\")\n",
        "  else:\n",
        "      print(\"c não é menor que 5\")\n",
        "\n",
        "      nota1 = float(input(\"Digite a primeira nota: \"))\n",
        "      nota2 = float(input(\"Digite a segunda nota: \"))\n",
        "      nota3 = float(input(\"Digite a terceira nota: \"))\n",
        "\n",
        "      media = (nota1 + nota2 + nota3) / 3\n",
        "\n",
        "      print(f\"A média de notas é: {media:.if}\")\n",
        "\n",
        "      if media >= 6:\n",
        "        print(\"Aprovado\")\n",
        "      else:\n",
        "          print(\"Reprovado\")\n",
        "\n",
        "\n"
      ]
    }
  ]
}